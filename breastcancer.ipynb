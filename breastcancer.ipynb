{
  "cells": [
    {
      "cell_type": "markdown",
      "metadata": {
        "id": "view-in-github",
        "colab_type": "text"
      },
      "source": [
        "<a href=\"https://colab.research.google.com/github/harnalashok/CatEncodersFamily/blob/main/breastcancer.ipynb\" target=\"_parent\"><img src=\"https://colab.research.google.com/assets/colab-badge.svg\" alt=\"Open In Colab\"/></a>"
      ]
    },
    {
      "cell_type": "code",
      "execution_count": 2,
      "metadata": {
        "colab": {
          "base_uri": "https://localhost:8080/"
        },
        "id": "XiE015ebMs54",
        "outputId": "793d4667-ce83-4095-c4db-93a0588d1b84"
      },
      "outputs": [
        {
          "output_type": "stream",
          "name": "stdout",
          "text": [
            "Collecting catencfamily==0.1.18\n",
            "  Downloading catencfamily-0.1.18-py3-none-any.whl (42 kB)\n",
            "\u001b[2K     \u001b[90m━━━━━━━━━━━━━━━━━━━━━━━━━━━━━━━━━━━━━━━━\u001b[0m \u001b[32m42.7/42.7 kB\u001b[0m \u001b[31m799.2 kB/s\u001b[0m eta \u001b[36m0:00:00\u001b[0m\n",
            "\u001b[?25hRequirement already satisfied: cdlib in /usr/local/lib/python3.10/dist-packages (from catencfamily==0.1.18) (0.3.0)\n",
            "Requirement already satisfied: matplotlib in /usr/local/lib/python3.10/dist-packages (from catencfamily==0.1.18) (3.7.1)\n",
            "Requirement already satisfied: networkx in /usr/local/lib/python3.10/dist-packages (from catencfamily==0.1.18) (3.2.1)\n",
            "Requirement already satisfied: numpy in /usr/local/lib/python3.10/dist-packages (from catencfamily==0.1.18) (1.25.2)\n",
            "Requirement already satisfied: pandas in /usr/local/lib/python3.10/dist-packages (from catencfamily==0.1.18) (1.5.3)\n",
            "Requirement already satisfied: pathlib in /usr/local/lib/python3.10/dist-packages (from catencfamily==0.1.18) (1.0.1)\n",
            "Requirement already satisfied: scikit-learn in /usr/local/lib/python3.10/dist-packages (from catencfamily==0.1.18) (1.2.2)\n",
            "Requirement already satisfied: scipy in /usr/local/lib/python3.10/dist-packages (from catencfamily==0.1.18) (1.11.4)\n",
            "Requirement already satisfied: seaborn in /usr/local/lib/python3.10/dist-packages (from catencfamily==0.1.18) (0.13.1)\n",
            "Requirement already satisfied: tqdm in /usr/local/lib/python3.10/dist-packages (from cdlib->catencfamily==0.1.18) (4.66.1)\n",
            "Requirement already satisfied: demon in /usr/local/lib/python3.10/dist-packages (from cdlib->catencfamily==0.1.18) (2.0.6)\n",
            "Requirement already satisfied: python-louvain>=0.16 in /usr/local/lib/python3.10/dist-packages (from cdlib->catencfamily==0.1.18) (0.16)\n",
            "Requirement already satisfied: nf1 in /usr/local/lib/python3.10/dist-packages (from cdlib->catencfamily==0.1.18) (0.0.4)\n",
            "Requirement already satisfied: pulp in /usr/local/lib/python3.10/dist-packages (from cdlib->catencfamily==0.1.18) (2.8.0)\n",
            "Requirement already satisfied: eva-lcd in /usr/local/lib/python3.10/dist-packages (from cdlib->catencfamily==0.1.18) (0.1.1)\n",
            "Requirement already satisfied: bimlpa in /usr/local/lib/python3.10/dist-packages (from cdlib->catencfamily==0.1.18) (0.1.2)\n",
            "Requirement already satisfied: markov-clustering in /usr/local/lib/python3.10/dist-packages (from cdlib->catencfamily==0.1.18) (0.0.6.dev0)\n",
            "Requirement already satisfied: python-igraph>=0.10 in /usr/local/lib/python3.10/dist-packages (from cdlib->catencfamily==0.1.18) (0.11.3)\n",
            "Requirement already satisfied: angelcommunity in /usr/local/lib/python3.10/dist-packages (from cdlib->catencfamily==0.1.18) (2.0.0)\n",
            "Requirement already satisfied: pooch in /usr/local/lib/python3.10/dist-packages (from cdlib->catencfamily==0.1.18) (1.8.0)\n",
            "Requirement already satisfied: dynetx in /usr/local/lib/python3.10/dist-packages (from cdlib->catencfamily==0.1.18) (0.3.2)\n",
            "Requirement already satisfied: thresholdclustering in /usr/local/lib/python3.10/dist-packages (from cdlib->catencfamily==0.1.18) (1.1)\n",
            "Requirement already satisfied: python-Levenshtein in /usr/local/lib/python3.10/dist-packages (from cdlib->catencfamily==0.1.18) (0.25.0)\n",
            "Requirement already satisfied: contourpy>=1.0.1 in /usr/local/lib/python3.10/dist-packages (from matplotlib->catencfamily==0.1.18) (1.2.0)\n",
            "Requirement already satisfied: cycler>=0.10 in /usr/local/lib/python3.10/dist-packages (from matplotlib->catencfamily==0.1.18) (0.12.1)\n",
            "Requirement already satisfied: fonttools>=4.22.0 in /usr/local/lib/python3.10/dist-packages (from matplotlib->catencfamily==0.1.18) (4.48.1)\n",
            "Requirement already satisfied: kiwisolver>=1.0.1 in /usr/local/lib/python3.10/dist-packages (from matplotlib->catencfamily==0.1.18) (1.4.5)\n",
            "Requirement already satisfied: packaging>=20.0 in /usr/local/lib/python3.10/dist-packages (from matplotlib->catencfamily==0.1.18) (23.2)\n",
            "Requirement already satisfied: pillow>=6.2.0 in /usr/local/lib/python3.10/dist-packages (from matplotlib->catencfamily==0.1.18) (9.4.0)\n",
            "Requirement already satisfied: pyparsing>=2.3.1 in /usr/local/lib/python3.10/dist-packages (from matplotlib->catencfamily==0.1.18) (3.1.1)\n",
            "Requirement already satisfied: python-dateutil>=2.7 in /usr/local/lib/python3.10/dist-packages (from matplotlib->catencfamily==0.1.18) (2.8.2)\n",
            "Requirement already satisfied: pytz>=2020.1 in /usr/local/lib/python3.10/dist-packages (from pandas->catencfamily==0.1.18) (2023.4)\n",
            "Requirement already satisfied: joblib>=1.1.1 in /usr/local/lib/python3.10/dist-packages (from scikit-learn->catencfamily==0.1.18) (1.3.2)\n",
            "Requirement already satisfied: threadpoolctl>=2.0.0 in /usr/local/lib/python3.10/dist-packages (from scikit-learn->catencfamily==0.1.18) (3.2.0)\n",
            "Requirement already satisfied: six>=1.5 in /usr/local/lib/python3.10/dist-packages (from python-dateutil>=2.7->matplotlib->catencfamily==0.1.18) (1.16.0)\n",
            "Requirement already satisfied: igraph==0.11.3 in /usr/local/lib/python3.10/dist-packages (from python-igraph>=0.10->cdlib->catencfamily==0.1.18) (0.11.3)\n",
            "Requirement already satisfied: texttable>=1.6.2 in /usr/local/lib/python3.10/dist-packages (from igraph==0.11.3->python-igraph>=0.10->cdlib->catencfamily==0.1.18) (1.7.0)\n",
            "Requirement already satisfied: future in /usr/local/lib/python3.10/dist-packages (from angelcommunity->cdlib->catencfamily==0.1.18) (0.18.3)\n",
            "Requirement already satisfied: decorator in /usr/local/lib/python3.10/dist-packages (from dynetx->cdlib->catencfamily==0.1.18) (4.4.2)\n",
            "Requirement already satisfied: platformdirs>=2.5.0 in /usr/local/lib/python3.10/dist-packages (from pooch->cdlib->catencfamily==0.1.18) (4.2.0)\n",
            "Requirement already satisfied: requests>=2.19.0 in /usr/local/lib/python3.10/dist-packages (from pooch->cdlib->catencfamily==0.1.18) (2.31.0)\n",
            "Requirement already satisfied: Levenshtein==0.25.0 in /usr/local/lib/python3.10/dist-packages (from python-Levenshtein->cdlib->catencfamily==0.1.18) (0.25.0)\n",
            "Requirement already satisfied: rapidfuzz<4.0.0,>=3.1.0 in /usr/local/lib/python3.10/dist-packages (from Levenshtein==0.25.0->python-Levenshtein->cdlib->catencfamily==0.1.18) (3.6.1)\n",
            "Requirement already satisfied: charset-normalizer<4,>=2 in /usr/local/lib/python3.10/dist-packages (from requests>=2.19.0->pooch->cdlib->catencfamily==0.1.18) (3.3.2)\n",
            "Requirement already satisfied: idna<4,>=2.5 in /usr/local/lib/python3.10/dist-packages (from requests>=2.19.0->pooch->cdlib->catencfamily==0.1.18) (3.6)\n",
            "Requirement already satisfied: urllib3<3,>=1.21.1 in /usr/local/lib/python3.10/dist-packages (from requests>=2.19.0->pooch->cdlib->catencfamily==0.1.18) (2.0.7)\n",
            "Requirement already satisfied: certifi>=2017.4.17 in /usr/local/lib/python3.10/dist-packages (from requests>=2.19.0->pooch->cdlib->catencfamily==0.1.18) (2024.2.2)\n",
            "Installing collected packages: catencfamily\n",
            "  Attempting uninstall: catencfamily\n",
            "    Found existing installation: catencfamily 0.1.17\n",
            "    Uninstalling catencfamily-0.1.17:\n",
            "      Successfully uninstalled catencfamily-0.1.17\n",
            "Successfully installed catencfamily-0.1.18\n"
          ]
        }
      ],
      "source": [
        "!pip install catencfamily==0.1.18"
      ]
    },
    {
      "cell_type": "code",
      "execution_count": 3,
      "metadata": {
        "colab": {
          "base_uri": "https://localhost:8080/"
        },
        "id": "UnWCQ3VwMs56",
        "outputId": "ba71ea45-35c6-4650-8342-20809394bdb8"
      },
      "outputs": [
        {
          "output_type": "stream",
          "name": "stdout",
          "text": [
            "Note: to be able to use all crisp methods, you need to install some additional packages:  {'graph_tool', 'infomap', 'leidenalg', 'wurlitzer', 'bayanpy'}\n",
            "Note: to be able to use all crisp methods, you need to install some additional packages:  {'ASLPAw', 'pyclustering'}\n",
            "Note: to be able to use all crisp methods, you need to install some additional packages:  {'wurlitzer', 'leidenalg', 'infomap'}\n"
          ]
        }
      ],
      "source": [
        "#code starts\n",
        "\n",
        "import pandas as pd\n",
        "import numpy as np\n",
        "from sklearn.pipeline import Pipeline\n",
        "from sklearn.impute import SimpleImputer\n",
        "from sklearn.compose import ColumnTransformer\n",
        "from sklearn.preprocessing import StandardScaler, KBinsDiscretizer\n",
        "from sklearn.decomposition import PCA\n",
        "import matplotlib.pyplot as plt\n",
        "from catencfamily.encoders import CatEncodersFamily\n",
        "from catencfamily import utils\n",
        "from sklearn.ensemble import RandomForestClassifier\n",
        "from sklearn.metrics import classification_report"
      ]
    },
    {
      "cell_type": "code",
      "execution_count": null,
      "metadata": {
        "id": "5SDSalioMs56"
      },
      "outputs": [],
      "source": [
        "# 2.0 Read breast cancer Data\n",
        "data = pd.read_csv(\"https://raw.githubusercontent.com/harnalashok/CatEncodersFamily/main/datasets/breastcancer.csv\")\n",
        "\n",
        "# 2.1 Check the first few rows of the dataset\n",
        "print(data.head(3))\n",
        "\n",
        "# 2.2 Check the shape of the dataset\n",
        "print(data.shape)\n",
        "\n",
        "# 2.3 Map target to 0 and 1\n",
        "data['diagnosis'] = data['diagnosis'].map({\"M\": 1, \"B\": 0})\n",
        "\n",
        "# 2.4 Proportions of 1s and 0s\n",
        "print(data['diagnosis'].value_counts(normalize=True))\n",
        "\n",
        "# 2.5 Remove unwanted columns\n",
        "data.drop(columns=[\"id\", \"Unnamed: 32\"], inplace=True)\n",
        "\n",
        "# 2.6 Check nulls and any need for imputing\n",
        "print(data.isnull().sum().sum())\n",
        "\n",
        "# 2.7 Rename columns having spaces\n",
        "data = data.rename(columns={\n",
        "    \"concave points_mean\": \"concave_points_mean\",\n",
        "    \"concave points_se\": \"concave_points_se\",\n",
        "    \"concave points_worst\": \"concave_points_worst\",\n",
        "    \"area_mean\": \"areaMean\",\n",
        "    \"area_se\": \"areaSe\",\n",
        "    \"texture_mean\": \"textureMean\",\n",
        "    \"concavity_worst\": \"concavityWorst\",\n",
        "    \"concavity_mean\": \"concavityMean\"\n",
        "})\n",
        "\n",
        "# 2.8 Pop out target\n",
        "y = data.pop(\"diagnosis\")\n",
        "\n",
        "# 3.0 Readjust column names\n",
        "best_features = [\"areaMean\", \"areaSe\", \"textureMean\", \"concavityWorst\", \"concavityMean\"]\n"
      ]
    },
    {
      "cell_type": "code",
      "execution_count": 6,
      "metadata": {
        "id": "Bb_5Sw34Ms58"
      },
      "outputs": [],
      "source": [
        "\n",
        "# 4.0 Define categorical columns\n",
        "cat_cols = list(best_features)\n",
        "\n",
        "# Instantiate CatEncodersFamily class\n",
        "ct = CatEncodersFamily(\n",
        "    cMeasures=[1, 1, 1, 1, None, 1, 1],\n",
        "    saveGraph=False\n",
        ")"
      ]
    },
    {
      "cell_type": "code",
      "execution_count": 27,
      "metadata": {
        "id": "mQaCC39dMs59"
      },
      "outputs": [],
      "source": [
        "# Define a dictionary containing categorical columns and interacting categorical columns\n",
        "mydict = {\n",
        "    'cat_cols': cat_cols,\n",
        "    'interactingCatCols': cat_cols,\n",
        "    'dataCols' : best_features\n",
        "}\n"
      ]
    },
    {
      "cell_type": "code",
      "source": [
        "\"\"\"\n",
        "ct.fit(data[best_features],\n",
        "       cat_cols= best_features,\n",
        "       interactingCatCols = best_features,\n",
        "       dataCols = best_features\n",
        "       )\n",
        " \"\"\""
      ],
      "metadata": {
        "colab": {
          "base_uri": "https://localhost:8080/",
          "height": 109
        },
        "id": "wpHjk_pSlTTj",
        "outputId": "6eb325a1-f8db-4328-ea44-32cfdb772443"
      },
      "execution_count": 28,
      "outputs": [
        {
          "output_type": "execute_result",
          "data": {
            "text/plain": [
              "CatEncodersFamily(avoidInteractionFeatures=[],\n",
              "                  cMeasures=[1, 1, 1, 1, None, 1, 1], mergelevelsincols=[],\n",
              "                  pathToStoreProgress=PosixPath('/content/allmodels/progress'))"
            ],
            "text/html": [
              "<style>#sk-container-id-2 {color: black;background-color: white;}#sk-container-id-2 pre{padding: 0;}#sk-container-id-2 div.sk-toggleable {background-color: white;}#sk-container-id-2 label.sk-toggleable__label {cursor: pointer;display: block;width: 100%;margin-bottom: 0;padding: 0.3em;box-sizing: border-box;text-align: center;}#sk-container-id-2 label.sk-toggleable__label-arrow:before {content: \"▸\";float: left;margin-right: 0.25em;color: #696969;}#sk-container-id-2 label.sk-toggleable__label-arrow:hover:before {color: black;}#sk-container-id-2 div.sk-estimator:hover label.sk-toggleable__label-arrow:before {color: black;}#sk-container-id-2 div.sk-toggleable__content {max-height: 0;max-width: 0;overflow: hidden;text-align: left;background-color: #f0f8ff;}#sk-container-id-2 div.sk-toggleable__content pre {margin: 0.2em;color: black;border-radius: 0.25em;background-color: #f0f8ff;}#sk-container-id-2 input.sk-toggleable__control:checked~div.sk-toggleable__content {max-height: 200px;max-width: 100%;overflow: auto;}#sk-container-id-2 input.sk-toggleable__control:checked~label.sk-toggleable__label-arrow:before {content: \"▾\";}#sk-container-id-2 div.sk-estimator input.sk-toggleable__control:checked~label.sk-toggleable__label {background-color: #d4ebff;}#sk-container-id-2 div.sk-label input.sk-toggleable__control:checked~label.sk-toggleable__label {background-color: #d4ebff;}#sk-container-id-2 input.sk-hidden--visually {border: 0;clip: rect(1px 1px 1px 1px);clip: rect(1px, 1px, 1px, 1px);height: 1px;margin: -1px;overflow: hidden;padding: 0;position: absolute;width: 1px;}#sk-container-id-2 div.sk-estimator {font-family: monospace;background-color: #f0f8ff;border: 1px dotted black;border-radius: 0.25em;box-sizing: border-box;margin-bottom: 0.5em;}#sk-container-id-2 div.sk-estimator:hover {background-color: #d4ebff;}#sk-container-id-2 div.sk-parallel-item::after {content: \"\";width: 100%;border-bottom: 1px solid gray;flex-grow: 1;}#sk-container-id-2 div.sk-label:hover label.sk-toggleable__label {background-color: #d4ebff;}#sk-container-id-2 div.sk-serial::before {content: \"\";position: absolute;border-left: 1px solid gray;box-sizing: border-box;top: 0;bottom: 0;left: 50%;z-index: 0;}#sk-container-id-2 div.sk-serial {display: flex;flex-direction: column;align-items: center;background-color: white;padding-right: 0.2em;padding-left: 0.2em;position: relative;}#sk-container-id-2 div.sk-item {position: relative;z-index: 1;}#sk-container-id-2 div.sk-parallel {display: flex;align-items: stretch;justify-content: center;background-color: white;position: relative;}#sk-container-id-2 div.sk-item::before, #sk-container-id-2 div.sk-parallel-item::before {content: \"\";position: absolute;border-left: 1px solid gray;box-sizing: border-box;top: 0;bottom: 0;left: 50%;z-index: -1;}#sk-container-id-2 div.sk-parallel-item {display: flex;flex-direction: column;z-index: 1;position: relative;background-color: white;}#sk-container-id-2 div.sk-parallel-item:first-child::after {align-self: flex-end;width: 50%;}#sk-container-id-2 div.sk-parallel-item:last-child::after {align-self: flex-start;width: 50%;}#sk-container-id-2 div.sk-parallel-item:only-child::after {width: 0;}#sk-container-id-2 div.sk-dashed-wrapped {border: 1px dashed gray;margin: 0 0.4em 0.5em 0.4em;box-sizing: border-box;padding-bottom: 0.4em;background-color: white;}#sk-container-id-2 div.sk-label label {font-family: monospace;font-weight: bold;display: inline-block;line-height: 1.2em;}#sk-container-id-2 div.sk-label-container {text-align: center;}#sk-container-id-2 div.sk-container {/* jupyter's `normalize.less` sets `[hidden] { display: none; }` but bootstrap.min.css set `[hidden] { display: none !important; }` so we also need the `!important` here to be able to override the default hidden behavior on the sphinx rendered scikit-learn.org. See: https://github.com/scikit-learn/scikit-learn/issues/21755 */display: inline-block !important;position: relative;}#sk-container-id-2 div.sk-text-repr-fallback {display: none;}</style><div id=\"sk-container-id-2\" class=\"sk-top-container\"><div class=\"sk-text-repr-fallback\"><pre>CatEncodersFamily(avoidInteractionFeatures=[],\n",
              "                  cMeasures=[1, 1, 1, 1, None, 1, 1], mergelevelsincols=[],\n",
              "                  pathToStoreProgress=PosixPath(&#x27;/content/allmodels/progress&#x27;))</pre><b>In a Jupyter environment, please rerun this cell to show the HTML representation or trust the notebook. <br />On GitHub, the HTML representation is unable to render, please try loading this page with nbviewer.org.</b></div><div class=\"sk-container\" hidden><div class=\"sk-item\"><div class=\"sk-estimator sk-toggleable\"><input class=\"sk-toggleable__control sk-hidden--visually\" id=\"sk-estimator-id-6\" type=\"checkbox\" checked><label for=\"sk-estimator-id-6\" class=\"sk-toggleable__label sk-toggleable__label-arrow\">CatEncodersFamily</label><div class=\"sk-toggleable__content\"><pre>CatEncodersFamily(avoidInteractionFeatures=[],\n",
              "                  cMeasures=[1, 1, 1, 1, None, 1, 1], mergelevelsincols=[],\n",
              "                  pathToStoreProgress=PosixPath(&#x27;/content/allmodels/progress&#x27;))</pre></div></div></div></div></div>"
            ]
          },
          "metadata": {},
          "execution_count": 28
        }
      ]
    },
    {
      "cell_type": "code",
      "execution_count": 8,
      "metadata": {
        "id": "VXH1p6z6Ms59"
      },
      "outputs": [],
      "source": [
        "# Define the pipeline including preprocessing and classification\n",
        "#n_components = min(train_binned.shape[0], train_binned.shape[1])\n",
        "pipeline = Pipeline([('kb', KBinsDiscretizer(n_bins = 30,\n",
        "                                             encode = 'ordinal',\n",
        "                                             strategy='kmeans',\n",
        "                                             dtype = np.float32)),\n",
        "    ('ct', ct),\n",
        "    ('imputer', SimpleImputer(strategy = 'median')),\n",
        "    ('pca', PCA(n_components=2, whiten=True, random_state=None)),\n",
        "\n",
        "])"
      ]
    },
    {
      "cell_type": "code",
      "execution_count": 9,
      "metadata": {
        "colab": {
          "base_uri": "https://localhost:8080/",
          "height": 284
        },
        "id": "Za93yie7Ms5-",
        "outputId": "abb024bc-7407-4fb3-8e7c-0e69f03612ce"
      },
      "outputs": [
        {
          "output_type": "stream",
          "name": "stdout",
          "text": [
            "\n",
            "\n",
            "\n",
            "====Takes time...\n",
            "\n"
          ]
        },
        {
          "output_type": "execute_result",
          "data": {
            "text/plain": [
              "Pipeline(steps=[('kb',\n",
              "                 KBinsDiscretizer(dtype=<class 'numpy.float32'>,\n",
              "                                  encode='ordinal', n_bins=30,\n",
              "                                  strategy='kmeans')),\n",
              "                ('ct',\n",
              "                 CatEncodersFamily(avoidInteractionFeatures=[],\n",
              "                                   cMeasures=[1, 1, 1, 1, None, 1, 1],\n",
              "                                   mergelevelsincols=[],\n",
              "                                   pathToStoreProgress=PosixPath('/content/allmodels/progress'))),\n",
              "                ('imputer', SimpleImputer(strategy='median')),\n",
              "                ('pca', PCA(n_components=2, whiten=True))])"
            ],
            "text/html": [
              "<style>#sk-container-id-1 {color: black;background-color: white;}#sk-container-id-1 pre{padding: 0;}#sk-container-id-1 div.sk-toggleable {background-color: white;}#sk-container-id-1 label.sk-toggleable__label {cursor: pointer;display: block;width: 100%;margin-bottom: 0;padding: 0.3em;box-sizing: border-box;text-align: center;}#sk-container-id-1 label.sk-toggleable__label-arrow:before {content: \"▸\";float: left;margin-right: 0.25em;color: #696969;}#sk-container-id-1 label.sk-toggleable__label-arrow:hover:before {color: black;}#sk-container-id-1 div.sk-estimator:hover label.sk-toggleable__label-arrow:before {color: black;}#sk-container-id-1 div.sk-toggleable__content {max-height: 0;max-width: 0;overflow: hidden;text-align: left;background-color: #f0f8ff;}#sk-container-id-1 div.sk-toggleable__content pre {margin: 0.2em;color: black;border-radius: 0.25em;background-color: #f0f8ff;}#sk-container-id-1 input.sk-toggleable__control:checked~div.sk-toggleable__content {max-height: 200px;max-width: 100%;overflow: auto;}#sk-container-id-1 input.sk-toggleable__control:checked~label.sk-toggleable__label-arrow:before {content: \"▾\";}#sk-container-id-1 div.sk-estimator input.sk-toggleable__control:checked~label.sk-toggleable__label {background-color: #d4ebff;}#sk-container-id-1 div.sk-label input.sk-toggleable__control:checked~label.sk-toggleable__label {background-color: #d4ebff;}#sk-container-id-1 input.sk-hidden--visually {border: 0;clip: rect(1px 1px 1px 1px);clip: rect(1px, 1px, 1px, 1px);height: 1px;margin: -1px;overflow: hidden;padding: 0;position: absolute;width: 1px;}#sk-container-id-1 div.sk-estimator {font-family: monospace;background-color: #f0f8ff;border: 1px dotted black;border-radius: 0.25em;box-sizing: border-box;margin-bottom: 0.5em;}#sk-container-id-1 div.sk-estimator:hover {background-color: #d4ebff;}#sk-container-id-1 div.sk-parallel-item::after {content: \"\";width: 100%;border-bottom: 1px solid gray;flex-grow: 1;}#sk-container-id-1 div.sk-label:hover label.sk-toggleable__label {background-color: #d4ebff;}#sk-container-id-1 div.sk-serial::before {content: \"\";position: absolute;border-left: 1px solid gray;box-sizing: border-box;top: 0;bottom: 0;left: 50%;z-index: 0;}#sk-container-id-1 div.sk-serial {display: flex;flex-direction: column;align-items: center;background-color: white;padding-right: 0.2em;padding-left: 0.2em;position: relative;}#sk-container-id-1 div.sk-item {position: relative;z-index: 1;}#sk-container-id-1 div.sk-parallel {display: flex;align-items: stretch;justify-content: center;background-color: white;position: relative;}#sk-container-id-1 div.sk-item::before, #sk-container-id-1 div.sk-parallel-item::before {content: \"\";position: absolute;border-left: 1px solid gray;box-sizing: border-box;top: 0;bottom: 0;left: 50%;z-index: -1;}#sk-container-id-1 div.sk-parallel-item {display: flex;flex-direction: column;z-index: 1;position: relative;background-color: white;}#sk-container-id-1 div.sk-parallel-item:first-child::after {align-self: flex-end;width: 50%;}#sk-container-id-1 div.sk-parallel-item:last-child::after {align-self: flex-start;width: 50%;}#sk-container-id-1 div.sk-parallel-item:only-child::after {width: 0;}#sk-container-id-1 div.sk-dashed-wrapped {border: 1px dashed gray;margin: 0 0.4em 0.5em 0.4em;box-sizing: border-box;padding-bottom: 0.4em;background-color: white;}#sk-container-id-1 div.sk-label label {font-family: monospace;font-weight: bold;display: inline-block;line-height: 1.2em;}#sk-container-id-1 div.sk-label-container {text-align: center;}#sk-container-id-1 div.sk-container {/* jupyter's `normalize.less` sets `[hidden] { display: none; }` but bootstrap.min.css set `[hidden] { display: none !important; }` so we also need the `!important` here to be able to override the default hidden behavior on the sphinx rendered scikit-learn.org. See: https://github.com/scikit-learn/scikit-learn/issues/21755 */display: inline-block !important;position: relative;}#sk-container-id-1 div.sk-text-repr-fallback {display: none;}</style><div id=\"sk-container-id-1\" class=\"sk-top-container\"><div class=\"sk-text-repr-fallback\"><pre>Pipeline(steps=[(&#x27;kb&#x27;,\n",
              "                 KBinsDiscretizer(dtype=&lt;class &#x27;numpy.float32&#x27;&gt;,\n",
              "                                  encode=&#x27;ordinal&#x27;, n_bins=30,\n",
              "                                  strategy=&#x27;kmeans&#x27;)),\n",
              "                (&#x27;ct&#x27;,\n",
              "                 CatEncodersFamily(avoidInteractionFeatures=[],\n",
              "                                   cMeasures=[1, 1, 1, 1, None, 1, 1],\n",
              "                                   mergelevelsincols=[],\n",
              "                                   pathToStoreProgress=PosixPath(&#x27;/content/allmodels/progress&#x27;))),\n",
              "                (&#x27;imputer&#x27;, SimpleImputer(strategy=&#x27;median&#x27;)),\n",
              "                (&#x27;pca&#x27;, PCA(n_components=2, whiten=True))])</pre><b>In a Jupyter environment, please rerun this cell to show the HTML representation or trust the notebook. <br />On GitHub, the HTML representation is unable to render, please try loading this page with nbviewer.org.</b></div><div class=\"sk-container\" hidden><div class=\"sk-item sk-dashed-wrapped\"><div class=\"sk-label-container\"><div class=\"sk-label sk-toggleable\"><input class=\"sk-toggleable__control sk-hidden--visually\" id=\"sk-estimator-id-1\" type=\"checkbox\" ><label for=\"sk-estimator-id-1\" class=\"sk-toggleable__label sk-toggleable__label-arrow\">Pipeline</label><div class=\"sk-toggleable__content\"><pre>Pipeline(steps=[(&#x27;kb&#x27;,\n",
              "                 KBinsDiscretizer(dtype=&lt;class &#x27;numpy.float32&#x27;&gt;,\n",
              "                                  encode=&#x27;ordinal&#x27;, n_bins=30,\n",
              "                                  strategy=&#x27;kmeans&#x27;)),\n",
              "                (&#x27;ct&#x27;,\n",
              "                 CatEncodersFamily(avoidInteractionFeatures=[],\n",
              "                                   cMeasures=[1, 1, 1, 1, None, 1, 1],\n",
              "                                   mergelevelsincols=[],\n",
              "                                   pathToStoreProgress=PosixPath(&#x27;/content/allmodels/progress&#x27;))),\n",
              "                (&#x27;imputer&#x27;, SimpleImputer(strategy=&#x27;median&#x27;)),\n",
              "                (&#x27;pca&#x27;, PCA(n_components=2, whiten=True))])</pre></div></div></div><div class=\"sk-serial\"><div class=\"sk-item\"><div class=\"sk-estimator sk-toggleable\"><input class=\"sk-toggleable__control sk-hidden--visually\" id=\"sk-estimator-id-2\" type=\"checkbox\" ><label for=\"sk-estimator-id-2\" class=\"sk-toggleable__label sk-toggleable__label-arrow\">KBinsDiscretizer</label><div class=\"sk-toggleable__content\"><pre>KBinsDiscretizer(dtype=&lt;class &#x27;numpy.float32&#x27;&gt;, encode=&#x27;ordinal&#x27;, n_bins=30,\n",
              "                 strategy=&#x27;kmeans&#x27;)</pre></div></div></div><div class=\"sk-item\"><div class=\"sk-estimator sk-toggleable\"><input class=\"sk-toggleable__control sk-hidden--visually\" id=\"sk-estimator-id-3\" type=\"checkbox\" ><label for=\"sk-estimator-id-3\" class=\"sk-toggleable__label sk-toggleable__label-arrow\">CatEncodersFamily</label><div class=\"sk-toggleable__content\"><pre>CatEncodersFamily(avoidInteractionFeatures=[],\n",
              "                  cMeasures=[1, 1, 1, 1, None, 1, 1], mergelevelsincols=[],\n",
              "                  pathToStoreProgress=PosixPath(&#x27;/content/allmodels/progress&#x27;))</pre></div></div></div><div class=\"sk-item\"><div class=\"sk-estimator sk-toggleable\"><input class=\"sk-toggleable__control sk-hidden--visually\" id=\"sk-estimator-id-4\" type=\"checkbox\" ><label for=\"sk-estimator-id-4\" class=\"sk-toggleable__label sk-toggleable__label-arrow\">SimpleImputer</label><div class=\"sk-toggleable__content\"><pre>SimpleImputer(strategy=&#x27;median&#x27;)</pre></div></div></div><div class=\"sk-item\"><div class=\"sk-estimator sk-toggleable\"><input class=\"sk-toggleable__control sk-hidden--visually\" id=\"sk-estimator-id-5\" type=\"checkbox\" ><label for=\"sk-estimator-id-5\" class=\"sk-toggleable__label sk-toggleable__label-arrow\">PCA</label><div class=\"sk-toggleable__content\"><pre>PCA(n_components=2, whiten=True)</pre></div></div></div></div></div></div></div>"
            ]
          },
          "metadata": {},
          "execution_count": 9
        }
      ],
      "source": [
        "# There are double underscore here:\n",
        "pipeline.fit(data[best_features],\n",
        "             y,\n",
        "             ct__cat_cols = cat_cols,\n",
        "             ct__interactingCatCols = cat_cols,\n",
        "             ct__dataCols= best_features\n",
        "             )"
      ]
    },
    {
      "cell_type": "code",
      "execution_count": 11,
      "metadata": {
        "colab": {
          "base_uri": "https://localhost:8080/"
        },
        "id": "qgqHGie9Ms5-",
        "outputId": "928d79c9-21d1-4b38-b873-47280a60728a"
      },
      "outputs": [
        {
          "output_type": "stream",
          "name": "stdout",
          "text": [
            "\n",
            "\n",
            "\n",
            "====Takes time...\n",
            "\n"
          ]
        }
      ],
      "source": [
        "X_train = pipeline.transform(data[best_features])\n"
      ]
    },
    {
      "cell_type": "code",
      "source": [
        "X_train.shape"
      ],
      "metadata": {
        "colab": {
          "base_uri": "https://localhost:8080/"
        },
        "id": "OBAMFZeWjeD6",
        "outputId": "5cedb205-ede3-4e9c-c148-86635062bfc7"
      },
      "execution_count": 12,
      "outputs": [
        {
          "output_type": "execute_result",
          "data": {
            "text/plain": [
              "(569, 2)"
            ]
          },
          "metadata": {},
          "execution_count": 12
        }
      ]
    },
    {
      "cell_type": "code",
      "source": [
        "_= plt.scatter(X_train[:,0],X_train[:,1],\n",
        "            color = ['red' if v == 1 else 'green' if v == 2 else 'blue' for v in y])"
      ],
      "metadata": {
        "colab": {
          "base_uri": "https://localhost:8080/",
          "height": 430
        },
        "id": "YU56qw_6jtY7",
        "outputId": "e6c6ccbb-d614-42bc-db00-41bfb3581c8b"
      },
      "execution_count": 25,
      "outputs": [
        {
          "output_type": "display_data",
          "data": {
            "text/plain": [
              "<Figure size 640x480 with 1 Axes>"
            ],
            "image/png": "[encoded data removed]"
          },
          "metadata": {}
        }
      ]
    },
    {
      "cell_type": "code",
      "source": [
        "###################"
      ],
      "metadata": {
        "id": "r_iy3lSOk_8U"
      },
      "execution_count": null,
      "outputs": []
    }
  ],
  "metadata": {
    "colab": {
      "provenance": [],
      "include_colab_link": true
    },
    "kernelspec": {
      "display_name": "Python 3 (ipykernel)",
      "language": "python",
      "name": "python3"
    },
    "language_info": {
      "codemirror_mode": {
        "name": "ipython",
        "version": 3
      },
      "file_extension": ".py",
      "mimetype": "text/x-python",
      "name": "python",
      "nbconvert_exporter": "python",
      "pygments_lexer": "ipython3",
      "version": "3.9.17"
    }
  },
  "nbformat": 4,
  "nbformat_minor": 0
}