{
 "cells": [
  {
   "cell_type": "code",
   "execution_count": null,
   "metadata": {},
   "outputs": [],
   "source": [
    "!pip install catencfamily==0.1.15"
   ]
  },
  {
   "cell_type": "code",
   "execution_count": 1,
   "metadata": {},
   "outputs": [
    {
     "name": "stdout",
     "output_type": "stream",
     "text": [
      "Note: to be able to use all crisp methods, you need to install some additional packages:  {'leidenalg', 'karateclub', 'graph_tool', 'wurlitzer', 'infomap'}\n",
      "Note: to be able to use all overlapping methods, you need to install some additional packages:  {'ASLPAw', 'karateclub'}\n",
      "Note: to be able to use all bipartite methods, you need to install some additional packages:  {'leidenalg', 'wurlitzer', 'infomap'}\n"
     ]
    }
   ],
   "source": [
    "#code starts\n",
    "\n",
    "#from google.colab import drive\n",
    "import pandas as pd\n",
    "from sklearn.pipeline import Pipeline\n",
    "from sklearn.impute import SimpleImputer\n",
    "from sklearn.compose import ColumnTransformer\n",
    "from sklearn.preprocessing import StandardScaler, KBinsDiscretizer\n",
    "from sklearn.decomposition import PCA\n",
    "import matplotlib.pyplot as plt\n",
    "from catencfamily.encoders import CatEncodersFamily\n",
    "from catencfamily import utils\n",
    "from sklearn.ensemble import RandomForestClassifier\n",
    "from sklearn.metrics import classification_report"
   ]
  },
  {
   "cell_type": "code",
   "execution_count": 2,
   "metadata": {},
   "outputs": [
    {
     "name": "stdout",
     "output_type": "stream",
     "text": [
      "         id diagnosis  radius_mean  texture_mean  perimeter_mean  area_mean  \\\n",
      "0    842302         M        17.99         10.38           122.8     1001.0   \n",
      "1    842517         M        20.57         17.77           132.9     1326.0   \n",
      "2  84300903         M        19.69         21.25           130.0     1203.0   \n",
      "\n",
      "   smoothness_mean  compactness_mean  concavity_mean  concave points_mean  \\\n",
      "0          0.11840           0.27760          0.3001              0.14710   \n",
      "1          0.08474           0.07864          0.0869              0.07017   \n",
      "2          0.10960           0.15990          0.1974              0.12790   \n",
      "\n",
      "   ...  texture_worst  perimeter_worst  area_worst  smoothness_worst  \\\n",
      "0  ...          17.33            184.6      2019.0            0.1622   \n",
      "1  ...          23.41            158.8      1956.0            0.1238   \n",
      "2  ...          25.53            152.5      1709.0            0.1444   \n",
      "\n",
      "   compactness_worst  concavity_worst  concave points_worst  symmetry_worst  \\\n",
      "0             0.6656           0.7119                0.2654          0.4601   \n",
      "1             0.1866           0.2416                0.1860          0.2750   \n",
      "2             0.4245           0.4504                0.2430          0.3613   \n",
      "\n",
      "   fractal_dimension_worst  Unnamed: 32  \n",
      "0                  0.11890          NaN  \n",
      "1                  0.08902          NaN  \n",
      "2                  0.08758          NaN  \n",
      "\n",
      "[3 rows x 33 columns]\n",
      "(569, 33)\n",
      "0    0.627417\n",
      "1    0.372583\n",
      "Name: diagnosis, dtype: float64\n",
      "0\n"
     ]
    }
   ],
   "source": [
    "# 2.0 Read breast cancer Data\n",
    "data = pd.read_csv(\"https://raw.githubusercontent.com/harnalashok/CatEncodersFamily/main/datasets/breastcancer.csv\")\n",
    "\n",
    "# 2.1 Check the first few rows of the dataset\n",
    "print(data.head(3))\n",
    "\n",
    "# 2.2 Check the shape of the dataset\n",
    "print(data.shape)\n",
    "\n",
    "# 2.3 Map target to 0 and 1\n",
    "data['diagnosis'] = data['diagnosis'].map({\"M\": 1, \"B\": 0})\n",
    "\n",
    "# 2.4 Proportions of 1s and 0s\n",
    "print(data['diagnosis'].value_counts(normalize=True))\n",
    "\n",
    "# 2.5 Remove unwanted columns\n",
    "data.drop(columns=[\"id\", \"Unnamed: 32\"], inplace=True)\n",
    "\n",
    "# 2.6 Check nulls and any need for imputing\n",
    "print(data.isnull().sum().sum())\n",
    "\n",
    "# 2.7 Rename columns having spaces\n",
    "data = data.rename(columns={\n",
    "    \"concave points_mean\": \"concave_points_mean\",\n",
    "    \"concave points_se\": \"concave_points_se\",\n",
    "    \"concave points_worst\": \"concave_points_worst\",\n",
    "    \"area_mean\": \"areaMean\",\n",
    "    \"area_se\": \"areaSe\",\n",
    "    \"texture_mean\": \"textureMean\",\n",
    "    \"concavity_worst\": \"concavityWorst\",\n",
    "    \"concavity_mean\": \"concavityMean\"\n",
    "})\n",
    "\n",
    "# 2.8 Pop out target\n",
    "y = data.pop(\"diagnosis\")\n",
    "\n",
    "# 3.0 Readjust column names\n",
    "best_features = [\"areaMean\", \"areaSe\", \"textureMean\", \"concavityWorst\", \"concavityMean\"]\n",
    "\n",
    "# 3.1 Discretise all features of data. And also split dataset into train/test\n",
    "orig_train, orig_test, train_binned, test_binned = utils.transformToCatFeatures(data[best_features],\n",
    "                                                                              y,\n",
    "                                                                              bins=30,\n",
    "                                                                              test_size=0.1,\n",
    "                                                                              genColName=False)"
   ]
  },
  {
   "cell_type": "code",
   "execution_count": 3,
   "metadata": {},
   "outputs": [],
   "source": [
    "# 3.2 Pop out targets\n",
    "ytr = train_binned.pop('target')\n",
    "yte = test_binned.pop(\"target\")\n"
   ]
  },
  {
   "cell_type": "code",
   "execution_count": 4,
   "metadata": {},
   "outputs": [],
   "source": [
    "\n",
    "# 8.0 Define y_train and y_test\n",
    "y_train = ytr\n",
    "y_test = yte\n",
    "\n",
    "\n",
    "\n",
    "# 4.0 Define categorical columns\n",
    "cat_cols = list(best_features)\n",
    "\n",
    "# Instantiate CatEncodersFamily class\n",
    "ct = CatEncodersFamily(\n",
    "    cMeasures=[1, 1, 1, 1, None, 1, 1],\n",
    "    saveGraph=False\n",
    ")"
   ]
  },
  {
   "cell_type": "code",
   "execution_count": 5,
   "metadata": {},
   "outputs": [],
   "source": [
    "# Define a dictionary containing categorical columns and interacting categorical columns\n",
    "mydict = {\n",
    "    'cat_cols': cat_cols,\n",
    "    'interactingCatCols': cat_cols\n",
    "}\n"
   ]
  },
  {
   "cell_type": "code",
   "execution_count": 9,
   "metadata": {},
   "outputs": [],
   "source": [
    "# Define the pipeline including preprocessing and classification\n",
    "n_components = min(train_binned.shape[0], train_binned.shape[1])\n",
    "pipeline = Pipeline([\n",
    "    ('ct', ct),\n",
    "    ('imputer', SimpleImputer(strategy = 'median')),\n",
    "    ('pca', PCA(n_components=min(n_components, 2), whiten=True, random_state=None)),\n",
    "    \n",
    "])"
   ]
  },
  {
   "cell_type": "code",
   "execution_count": 10,
   "metadata": {},
   "outputs": [
    {
     "name": "stdout",
     "output_type": "stream",
     "text": [
      "\n",
      "\n",
      "\n",
      "====Takes time...\n",
      "\n"
     ]
    },
    {
     "data": {
      "text/html": [
       "<style>#sk-container-id-2 {color: black;}#sk-container-id-2 pre{padding: 0;}#sk-container-id-2 div.sk-toggleable {background-color: white;}#sk-container-id-2 label.sk-toggleable__label {cursor: pointer;display: block;width: 100%;margin-bottom: 0;padding: 0.3em;box-sizing: border-box;text-align: center;}#sk-container-id-2 label.sk-toggleable__label-arrow:before {content: \"▸\";float: left;margin-right: 0.25em;color: #696969;}#sk-container-id-2 label.sk-toggleable__label-arrow:hover:before {color: black;}#sk-container-id-2 div.sk-estimator:hover label.sk-toggleable__label-arrow:before {color: black;}#sk-container-id-2 div.sk-toggleable__content {max-height: 0;max-width: 0;overflow: hidden;text-align: left;background-color: #f0f8ff;}#sk-container-id-2 div.sk-toggleable__content pre {margin: 0.2em;color: black;border-radius: 0.25em;background-color: #f0f8ff;}#sk-container-id-2 input.sk-toggleable__control:checked~div.sk-toggleable__content {max-height: 200px;max-width: 100%;overflow: auto;}#sk-container-id-2 input.sk-toggleable__control:checked~label.sk-toggleable__label-arrow:before {content: \"▾\";}#sk-container-id-2 div.sk-estimator input.sk-toggleable__control:checked~label.sk-toggleable__label {background-color: #d4ebff;}#sk-container-id-2 div.sk-label input.sk-toggleable__control:checked~label.sk-toggleable__label {background-color: #d4ebff;}#sk-container-id-2 input.sk-hidden--visually {border: 0;clip: rect(1px 1px 1px 1px);clip: rect(1px, 1px, 1px, 1px);height: 1px;margin: -1px;overflow: hidden;padding: 0;position: absolute;width: 1px;}#sk-container-id-2 div.sk-estimator {font-family: monospace;background-color: #f0f8ff;border: 1px dotted black;border-radius: 0.25em;box-sizing: border-box;margin-bottom: 0.5em;}#sk-container-id-2 div.sk-estimator:hover {background-color: #d4ebff;}#sk-container-id-2 div.sk-parallel-item::after {content: \"\";width: 100%;border-bottom: 1px solid gray;flex-grow: 1;}#sk-container-id-2 div.sk-label:hover label.sk-toggleable__label {background-color: #d4ebff;}#sk-container-id-2 div.sk-serial::before {content: \"\";position: absolute;border-left: 1px solid gray;box-sizing: border-box;top: 0;bottom: 0;left: 50%;z-index: 0;}#sk-container-id-2 div.sk-serial {display: flex;flex-direction: column;align-items: center;background-color: white;padding-right: 0.2em;padding-left: 0.2em;position: relative;}#sk-container-id-2 div.sk-item {position: relative;z-index: 1;}#sk-container-id-2 div.sk-parallel {display: flex;align-items: stretch;justify-content: center;background-color: white;position: relative;}#sk-container-id-2 div.sk-item::before, #sk-container-id-2 div.sk-parallel-item::before {content: \"\";position: absolute;border-left: 1px solid gray;box-sizing: border-box;top: 0;bottom: 0;left: 50%;z-index: -1;}#sk-container-id-2 div.sk-parallel-item {display: flex;flex-direction: column;z-index: 1;position: relative;background-color: white;}#sk-container-id-2 div.sk-parallel-item:first-child::after {align-self: flex-end;width: 50%;}#sk-container-id-2 div.sk-parallel-item:last-child::after {align-self: flex-start;width: 50%;}#sk-container-id-2 div.sk-parallel-item:only-child::after {width: 0;}#sk-container-id-2 div.sk-dashed-wrapped {border: 1px dashed gray;margin: 0 0.4em 0.5em 0.4em;box-sizing: border-box;padding-bottom: 0.4em;background-color: white;}#sk-container-id-2 div.sk-label label {font-family: monospace;font-weight: bold;display: inline-block;line-height: 1.2em;}#sk-container-id-2 div.sk-label-container {text-align: center;}#sk-container-id-2 div.sk-container {/* jupyter's `normalize.less` sets `[hidden] { display: none; }` but bootstrap.min.css set `[hidden] { display: none !important; }` so we also need the `!important` here to be able to override the default hidden behavior on the sphinx rendered scikit-learn.org. See: https://github.com/scikit-learn/scikit-learn/issues/21755 */display: inline-block !important;position: relative;}#sk-container-id-2 div.sk-text-repr-fallback {display: none;}</style><div id=\"sk-container-id-2\" class=\"sk-top-container\"><div class=\"sk-text-repr-fallback\"><pre>Pipeline(steps=[(&#x27;ct&#x27;,\n",
       "                 CatEncodersFamily(avoidInteractionFeatures=[],\n",
       "                                   cMeasures=[1, 1, 1, 1, None, 1, 1],\n",
       "                                   mergelevelsincols=[],\n",
       "                                   pathToStoreProgress=WindowsPath(&#x27;C:/Users/Ashok/OneDrive - fsm.ac.in/Desktop/useless/allmodels/progress&#x27;))),\n",
       "                (&#x27;imputer&#x27;, SimpleImputer(strategy=&#x27;median&#x27;)),\n",
       "                (&#x27;pca&#x27;, PCA(n_components=2, whiten=True))])</pre><b>In a Jupyter environment, please rerun this cell to show the HTML representation or trust the notebook. <br />On GitHub, the HTML representation is unable to render, please try loading this page with nbviewer.org.</b></div><div class=\"sk-container\" hidden><div class=\"sk-item sk-dashed-wrapped\"><div class=\"sk-label-container\"><div class=\"sk-label sk-toggleable\"><input class=\"sk-toggleable__control sk-hidden--visually\" id=\"sk-estimator-id-4\" type=\"checkbox\" ><label for=\"sk-estimator-id-4\" class=\"sk-toggleable__label sk-toggleable__label-arrow\">Pipeline</label><div class=\"sk-toggleable__content\"><pre>Pipeline(steps=[(&#x27;ct&#x27;,\n",
       "                 CatEncodersFamily(avoidInteractionFeatures=[],\n",
       "                                   cMeasures=[1, 1, 1, 1, None, 1, 1],\n",
       "                                   mergelevelsincols=[],\n",
       "                                   pathToStoreProgress=WindowsPath(&#x27;C:/Users/Ashok/OneDrive - fsm.ac.in/Desktop/useless/allmodels/progress&#x27;))),\n",
       "                (&#x27;imputer&#x27;, SimpleImputer(strategy=&#x27;median&#x27;)),\n",
       "                (&#x27;pca&#x27;, PCA(n_components=2, whiten=True))])</pre></div></div></div><div class=\"sk-serial\"><div class=\"sk-item\"><div class=\"sk-estimator sk-toggleable\"><input class=\"sk-toggleable__control sk-hidden--visually\" id=\"sk-estimator-id-5\" type=\"checkbox\" ><label for=\"sk-estimator-id-5\" class=\"sk-toggleable__label sk-toggleable__label-arrow\">CatEncodersFamily</label><div class=\"sk-toggleable__content\"><pre>CatEncodersFamily(avoidInteractionFeatures=[],\n",
       "                  cMeasures=[1, 1, 1, 1, None, 1, 1], mergelevelsincols=[],\n",
       "                  pathToStoreProgress=WindowsPath(&#x27;C:/Users/Ashok/OneDrive - fsm.ac.in/Desktop/useless/allmodels/progress&#x27;))</pre></div></div></div><div class=\"sk-item\"><div class=\"sk-estimator sk-toggleable\"><input class=\"sk-toggleable__control sk-hidden--visually\" id=\"sk-estimator-id-6\" type=\"checkbox\" ><label for=\"sk-estimator-id-6\" class=\"sk-toggleable__label sk-toggleable__label-arrow\">SimpleImputer</label><div class=\"sk-toggleable__content\"><pre>SimpleImputer(strategy=&#x27;median&#x27;)</pre></div></div></div><div class=\"sk-item\"><div class=\"sk-estimator sk-toggleable\"><input class=\"sk-toggleable__control sk-hidden--visually\" id=\"sk-estimator-id-7\" type=\"checkbox\" ><label for=\"sk-estimator-id-7\" class=\"sk-toggleable__label sk-toggleable__label-arrow\">PCA</label><div class=\"sk-toggleable__content\"><pre>PCA(n_components=2, whiten=True)</pre></div></div></div></div></div></div></div>"
      ],
      "text/plain": [
       "Pipeline(steps=[('ct',\n",
       "                 CatEncodersFamily(avoidInteractionFeatures=[],\n",
       "                                   cMeasures=[1, 1, 1, 1, None, 1, 1],\n",
       "                                   mergelevelsincols=[],\n",
       "                                   pathToStoreProgress=WindowsPath('C:/Users/Ashok/OneDrive - fsm.ac.in/Desktop/useless/allmodels/progress'))),\n",
       "                ('imputer', SimpleImputer(strategy='median')),\n",
       "                ('pca', PCA(n_components=2, whiten=True))])"
      ]
     },
     "execution_count": 10,
     "metadata": {},
     "output_type": "execute_result"
    }
   ],
   "source": [
    "# There are double underscore here:\n",
    "pipeline.fit(train_binned[cat_cols], y_train, ct__cat_cols = cat_cols, ct__interactingCatCols = cat_cols)"
   ]
  },
  {
   "cell_type": "code",
   "execution_count": 8,
   "metadata": {},
   "outputs": [
    {
     "name": "stdout",
     "output_type": "stream",
     "text": [
      "\n",
      "\n",
      "\n",
      "====Takes time...\n",
      "\n"
     ]
    }
   ],
   "source": [
    "X_train = pipel`bine.transform(train_binned)\n"
   ]
  },
  {
   "cell_type": "code",
   "execution_count": 12,
   "metadata": {},
   "outputs": [
    {
     "name": "stdout",
     "output_type": "stream",
     "text": [
      "\n",
      "\n",
      "\n",
      "====Takes time...\n",
      "\n"
     ]
    }
   ],
   "source": [
    "X_train = pipeline.transform(train_binned)"
   ]
  },
  {
   "cell_type": "code",
   "execution_count": 13,
   "metadata": {},
   "outputs": [
    {
     "name": "stdout",
     "output_type": "stream",
     "text": [
      "\n",
      "\n",
      "\n",
      "====Takes time...\n",
      "\n"
     ]
    }
   ],
   "source": [
    "X_test = pipeline.transform(test_binned)"
   ]
  },
  {
   "cell_type": "code",
   "execution_count": null,
   "metadata": {
    "id": "Basjzoz99zf4"
   },
   "outputs": [],
   "source": [
    "#code ends"
   ]
  }
 ],
 "metadata": {
  "colab": {
   "provenance": []
  },
  "kernelspec": {
   "display_name": "Python 3 (ipykernel)",
   "language": "python",
   "name": "python3"
  },
  "language_info": {
   "codemirror_mode": {
    "name": "ipython",
    "version": 3
   },
   "file_extension": ".py",
   "mimetype": "text/x-python",
   "name": "python",
   "nbconvert_exporter": "python",
   "pygments_lexer": "ipython3",
   "version": "3.9.17"
  }
 },
 "nbformat": 4,
 "nbformat_minor": 1
}
