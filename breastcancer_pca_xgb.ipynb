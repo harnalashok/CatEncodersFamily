{
  "nbformat": 4,
  "nbformat_minor": 0,
  "metadata": {
    "colab": {
      "provenance": [],
      "authorship_tag": "ABX9TyMUYChUOhmXm3Ce1ApPM2Kg",
      "include_colab_link": true
    },
    "kernelspec": {
      "name": "python3",
      "display_name": "Python 3"
    },
    "language_info": {
      "name": "python"
    }
  },
  "cells": [
    {
      "cell_type": "markdown",
      "metadata": {
        "id": "view-in-github",
        "colab_type": "text"
      },
      "source": [
        "<a href=\"https://colab.research.google.com/github/harnalashok/CatEncodersFamily/blob/main/breastcancer_pca_xgb.ipynb\" target=\"_parent\"><img src=\"https://colab.research.google.com/assets/colab-badge.svg\" alt=\"Open In Colab\"/></a>"
      ]
    },
    {
      "cell_type": "markdown",
      "source": [
        "# Demo with Wisconsin Breast cancer data set\n",
        "Data source is [here](https://archive.ics.uci.edu/ml/datasets/breast+cancer+wisconsin+(diagnostic))."
      ],
      "metadata": {
        "id": "_DRlnHuYx3Uq"
      }
    },
    {
      "cell_type": "code",
      "source": [
        "# Last amended: 6th June, 2023"
      ],
      "metadata": {
        "id": "9kmR3XSsxxXi"
      },
      "execution_count": null,
      "outputs": []
    },
    {
      "cell_type": "markdown",
      "source": [
        "## Basics"
      ],
      "metadata": {
        "id": "VUI9dM3MsaSO"
      }
    },
    {
      "cell_type": "code",
      "source": [
        "!pip install catencfamily==0.0.65"
      ],
      "metadata": {
        "id": "PcL5yr7IsMfH"
      },
      "execution_count": null,
      "outputs": []
    },
    {
      "cell_type": "code",
      "execution_count": null,
      "metadata": {
        "id": "pwrp4q_urgbd"
      },
      "outputs": [],
      "source": [
        "# 1.0 Call libraries\n",
        "import pandas as pd\n",
        "import numpy as np\n",
        "\n",
        "\n",
        "# 1.01\n",
        "from sklearn.preprocessing import StandardScaler\n",
        "from sklearn.decomposition import PCA\n",
        "\n",
        "\n",
        "# 1.02\n",
        "import matplotlib.pyplot as plt\n",
        "import seaborn as sns\n",
        "\n",
        "\n",
        "# 1.03\n",
        "import xgboost as xgb\n",
        "\n",
        "\n",
        "# 1.04\n",
        "from catencfamily.encoders import CatEncodersFamily\n",
        "from catencfamily import utils"
      ]
    },
    {
      "cell_type": "code",
      "source": [
        "# 1.05 \n",
        "from IPython.core.interactiveshell import InteractiveShell\n",
        "InteractiveShell.ast_node_interactivity = \"all\"\n"
      ],
      "metadata": {
        "id": "GU0RLwlhHFLX"
      },
      "execution_count": null,
      "outputs": []
    },
    {
      "cell_type": "code",
      "source": [
        "# 2.0 Read Data\n",
        "data = pd.read_csv(\"https://raw.githubusercontent.com/harnalashok/CatEncodersFamily/main/datasets/breastcancer.csv\")\n",
        "data.head(3)"
      ],
      "metadata": {
        "id": "bwDfjlR8tRYV"
      },
      "execution_count": null,
      "outputs": []
    },
    {
      "cell_type": "code",
      "source": [
        "# 2.1\n",
        "data.shape   # (569, 30)\n",
        "print(\"\\n==dtypes====\\n\")\n",
        "data.dtypes"
      ],
      "metadata": {
        "id": "Y3ckLQGWhTsc"
      },
      "execution_count": null,
      "outputs": []
    },
    {
      "cell_type": "code",
      "source": [
        "# 2.2 pop out target, id and unnamed:\n",
        "\n",
        "y = data.pop(\"diagnosis\")\n",
        "_ = data.pop(\"id\")\n",
        "_= data.pop(\"Unnamed: 32\")"
      ],
      "metadata": {
        "id": "hTiRcj4WA9Aw"
      },
      "execution_count": null,
      "outputs": []
    },
    {
      "cell_type": "code",
      "source": [
        "# 2.21 Map target to 0 and 1\n",
        "y = y.map({\"M\" : 1, \"B\": 0 })\n",
        "\n",
        "# 2.22 Proportions of 1s and 0s\n",
        "y.value_counts(normalize = True)"
      ],
      "metadata": {
        "id": "1RhqozGeBIFS"
      },
      "execution_count": null,
      "outputs": []
    },
    {
      "cell_type": "code",
      "source": [
        "# 2.3 Check nulls and need for imputing?\n",
        "\n",
        "data.isnull().sum().sum()\n"
      ],
      "metadata": {
        "colab": {
          "base_uri": "https://localhost:8080/"
        },
        "id": "vJ0s4CoMhz3z",
        "outputId": "8ff7d9a2-af63-4546-b58f-40737e35e7c4"
      },
      "execution_count": null,
      "outputs": [
        {
          "output_type": "execute_result",
          "data": {
            "text/plain": [
              "0"
            ]
          },
          "metadata": {},
          "execution_count": 8
        }
      ]
    },
    {
      "cell_type": "code",
      "source": [
        "# 2.4 Rename columns having spaces:\n",
        "\n",
        "data = data.rename(columns = { \"concave points_mean\" : \"concave_points_mean\",\n",
        "                               \"concave points_se\"   : \"concave_points_se\",\n",
        "                               \"concave points_worst\": \"concave_points_worst\"\n",
        "                             }\n",
        "                   )    \n"
      ],
      "metadata": {
        "id": "EyM_KbNcBRfY"
      },
      "execution_count": null,
      "outputs": []
    },
    {
      "cell_type": "markdown",
      "source": [
        "## Transform numeric data to categorical\n",
        "We transform our data as if it were categorical. (of course, such transformation is imperfect.)"
      ],
      "metadata": {
        "id": "96ciJPG1h-rO"
      }
    },
    {
      "cell_type": "markdown",
      "source": [
        "To perform our experiments we bin all numeric columns to transform the data to categorical. Binning is performed using pandas `cut()` method. Subsequently we will transform the categorical data to numeric using the approach given in CatEncodersFamily.  \n",
        "\n",
        "While binning, we also split the data: both the numeric (the original) as also the binned datasets. Spliting is performed in stratified manner using `train_test_split()` function of sklearn; `target (y)` is used to stratify. While splitting, for easy comparison, we  see to it that same set of rows occur in orig_train and train_binned on the one hand and orig_test and test_binned on the other hand. "
      ],
      "metadata": {
        "id": "5rBu0IPIiEHk"
      }
    },
    {
      "cell_type": "code",
      "source": [
        "# 3.0 Discretise all features of data. And also split dataset.\n",
        "#     into train/test:\n",
        "\n",
        "orig_train, orig_test, train_binned, test_binned  = utils.transformToCatFeatures(data,\n",
        "                                                                              y,\n",
        "                                                                              bins = 30,\n",
        "                                                                              test_size = 0.1,\n",
        "                                                                              genColName = False  # Keep orig col names\n",
        "                                                                              )"
      ],
      "metadata": {
        "id": "yWKqOmZzC11n"
      },
      "execution_count": null,
      "outputs": []
    },
    {
      "cell_type": "code",
      "source": [
        "# 3.0.1 Check  original data:\n",
        "#       It has target col also:\n",
        "\n",
        "orig_train.shape\n",
        "print(\"\\n======\\n\")\n",
        "orig_train.head(3)\n",
        "orig_test.head(3)\n"
      ],
      "metadata": {
        "id": "KZek2TX3DBzW"
      },
      "execution_count": null,
      "outputs": []
    },
    {
      "cell_type": "code",
      "source": [
        "# 3.0.2 Check discretised features\n",
        "#       Note the row-indices of train/test data \n",
        "#       and compare with those in the above cell.\n",
        "\n",
        "train_binned.shape\n",
        "print(\"\\n========\\n\")\n",
        "train_binned.head(3)\n",
        "test_binned.head(3)"
      ],
      "metadata": {
        "id": "3BOaBbJgEsOP"
      },
      "execution_count": null,
      "outputs": []
    },
    {
      "cell_type": "code",
      "source": [
        "# 3.1 Pop out targets:\n",
        "ytr = train_binned.pop('target')\n",
        "yte = test_binned.pop(\"target\")"
      ],
      "metadata": {
        "id": "FBr3lpnwIojA"
      },
      "execution_count": null,
      "outputs": []
    },
    {
      "cell_type": "markdown",
      "source": [
        "## Transform categorical data to numeric\n",
        "We use `CatEncodersFamily` class for transformation:"
      ],
      "metadata": {
        "id": "woz-KV7GlFit"
      }
    },
    {
      "cell_type": "code",
      "source": [
        "## 4.0 Developing models\n",
        "#      Which are our cat columns\n",
        "#      We will consider top-5 features \n",
        "# Ref: https://www.kaggle.com/code/kanncaa1/feature-selection-and-data-visualization\n",
        "\n",
        "best_features= [\"area_mean\", \"area_se\", \"texture_mean\", \"concavity_worst\", \"concavity_mean\"]\n",
        "cat_cols = list(train_binned[best_features].columns)\n",
        "len(cat_cols)  # 5\n",
        "\n",
        "\n",
        "# 4.1 Keep interacting cat columns, same\n",
        "# as cat columns:\n",
        "interactingCatCols = cat_cols"
      ],
      "metadata": {
        "colab": {
          "base_uri": "https://localhost:8080/"
        },
        "id": "sjx7gE7lIwV3",
        "outputId": "96ffc1ca-c24c-4ee0-f544-80fbc2e859e1"
      },
      "execution_count": null,
      "outputs": [
        {
          "output_type": "execute_result",
          "data": {
            "text/plain": [
              "5"
            ]
          },
          "metadata": {},
          "execution_count": 21
        }
      ]
    },
    {
      "cell_type": "code",
      "source": [
        "# 5.0 Instantiate CatEncodersFamily class:\n",
        "\n",
        "ct = CatEncodersFamily(\n",
        "                       cMeasures=[1,1,1,1,None,1,1],\n",
        "                       )\n",
        "\n",
        "# 5.1 Fit it using only train_binned dataset.\n",
        "#     While fitting, 'target' is not needed:\n",
        "\n",
        "\n",
        "ct.fit(train_binned, cat_cols, interactingCatCols) "
      ],
      "metadata": {
        "id": "hgKX2Wz-I8NR"
      },
      "execution_count": null,
      "outputs": []
    },
    {
      "cell_type": "markdown",
      "source": [
        "## Data transformation:"
      ],
      "metadata": {
        "id": "BL9noeZLl-gb"
      }
    },
    {
      "cell_type": "code",
      "source": [
        "# 6.0 Transform both test_binned and train_binned data:\n",
        "\n",
        "test_trans = ct.transform(test_binned[cat_cols])\n",
        "\n",
        "f\"Transformed test data shape: {test_trans.shape}\""
      ],
      "metadata": {
        "id": "R0L6rdClLLS4"
      },
      "execution_count": null,
      "outputs": []
    },
    {
      "cell_type": "code",
      "source": [
        "# 6.0.1 Transform train_binned now:\n",
        "\n",
        "train_trans= ct.transform(train_binned[cat_cols])\n",
        "\n",
        "f\"Transformed train data shape: {train_trans.shape}\""
      ],
      "metadata": {
        "id": "2gHBxFvJLXa_"
      },
      "execution_count": null,
      "outputs": []
    },
    {
      "cell_type": "markdown",
      "source": [
        "Our new features are substantially difft from original features. Prefixes to feature names imply as below:  \n",
        "<i>\n",
        ">deg_ ===> This feature results from calculation of degree centrality<br>\n",
        ">eig_ ===> This feature results from calculation of eigenvector centrality<br>\n",
        ">pr_  ===> This feature results from calculation of page rank centrality<br>\n",
        ">bet_ ===> This feature results from calculation of betweenness centrality<br>\n",
        ">clu_ ===> This feature results from calculation of clustering characteristics<br>,</i>\n"
      ],
      "metadata": {
        "id": "RAu5o5OmnPsb"
      }
    },
    {
      "cell_type": "code",
      "source": [
        "# 6.1 Observe data now:\n",
        "#     It also has original binned cols (5):\n",
        "\n",
        "train_trans.head()\n",
        "test_trans.head()"
      ],
      "metadata": {
        "id": "EiVL39ZmLgZW"
      },
      "execution_count": null,
      "outputs": []
    },
    {
      "cell_type": "code",
      "source": [
        "# 6.2\n",
        "\n",
        "_= orig_train.pop('target')\n",
        "_= orig_test.pop('target')"
      ],
      "metadata": {
        "id": "6YtKe_jM6dcH"
      },
      "execution_count": null,
      "outputs": []
    },
    {
      "cell_type": "markdown",
      "source": [
        "## PCA with original data and transformed data:"
      ],
      "metadata": {
        "id": "LAkmqJ4Fqm3q"
      }
    },
    {
      "cell_type": "code",
      "source": [
        "# 7.0 PCA with original train data:\n",
        "\n",
        "pca = PCA(n_components = 2,  whiten= True, random_state= None)\n",
        "ss= StandardScaler()\n",
        "orig_pca = pca.fit_transform(ss.fit_transform(orig_train[cat_cols]))\n",
        "orig_pca.shape"
      ],
      "metadata": {
        "id": "MKhjg-Mv6ZNE"
      },
      "execution_count": null,
      "outputs": []
    },
    {
      "cell_type": "code",
      "source": [
        "# 7.1 PCA with transformed data.\n",
        "#     Drop the five cat_cols first:\n",
        "\n",
        "trans_pca = train_trans.iloc[:,len(cat_cols):]\n",
        "trans_pca.isnull().sum().sum()  # If not null perform imputation with SimpleImputer(strategy = 'median')"
      ],
      "metadata": {
        "id": "XhD5N5dp6_3m"
      },
      "execution_count": null,
      "outputs": []
    },
    {
      "cell_type": "code",
      "source": [
        "# 7.2 PCA of transformed data:\n",
        "\n",
        "pca = PCA(n_components= 2, whiten= True, random_state = None)\n",
        "ss = StandardScaler()\n",
        "trans_pca = pca.fit_transform(ss.fit_transform(trans_pca))\n",
        "trans_pca.shape"
      ],
      "metadata": {
        "id": "Dgz9Oj9Z6m5T"
      },
      "execution_count": null,
      "outputs": []
    },
    {
      "cell_type": "code",
      "source": [
        "# 7.3 Assign column names;\n",
        "\n",
        "colnames = [\"pc\" + str(i) for i in range(orig_pca.shape[1])]\n",
        "orig_pca  = pd.DataFrame(orig_pca, columns = colnames)\n",
        "trans_pca = pd.DataFrame(trans_pca, columns = colnames)"
      ],
      "metadata": {
        "id": "Wu_hOyIi7mmX"
      },
      "execution_count": null,
      "outputs": []
    },
    {
      "cell_type": "code",
      "source": [
        "# 8.1 PCA from original train data:\n",
        "\n",
        "plt.style.use(\"dark_background\")\n",
        "sns.scatterplot(data = orig_pca ,\n",
        "                x= 'pc0',\n",
        "                y = 'pc1',\n",
        "                hue = ytr.values,\n",
        "                palette = [\"#33cc33\", \"#cc0000\"]\n",
        "                ).set(title='PCA of original numeric data');\n"
      ],
      "metadata": {
        "id": "RzrlVc3Y86fM"
      },
      "execution_count": null,
      "outputs": []
    },
    {
      "cell_type": "code",
      "source": [
        "# 8.2 PCA from transformed data:\n",
        "\n",
        "plt.style.use(\"dark_background\")\n",
        "sns.scatterplot(data = trans_pca,\n",
        "                x= 'pc0',\n",
        "                y = 'pc1',\n",
        "                hue = ytr.values,\n",
        "                palette = [\"#33cc33\", \"#cc0000\"]\n",
        "                ).set(title='PCA from transformed data') ;"
      ],
      "metadata": {
        "id": "daubFutv9okF"
      },
      "execution_count": null,
      "outputs": []
    },
    {
      "cell_type": "markdown",
      "source": [
        "## xgboost modeling:"
      ],
      "metadata": {
        "id": "RAF7egwWvsE8"
      }
    },
    {
      "cell_type": "code",
      "source": [
        "# 9.0 Original train/test data:\n",
        "\n",
        "evals_result= {}\n",
        "model_orig = xgb.XGBClassifier( n_estimators= 200,\n",
        "                               verbosity = 3,\n",
        "                               eta = 0.06,      \n",
        "                               max_depth = 6,\n",
        "                               subsample = 0.8, \n",
        "                               evals_result = evals_result,\n",
        "                               random_state = 70,\n",
        "                              )\n",
        "\n",
        "\n",
        "tr_X =   orig_train[best_features] \n",
        "test_X = orig_test[best_features]  \n",
        "ytr = ytr \n",
        "yte = yte \n",
        "\n",
        "\n",
        "model_orig.fit(tr_X, ytr.values,             \n",
        "               early_stopping_rounds = 50,   \n",
        "               eval_set=[ (test_X, yte.values)],\n",
        "               eval_metric = ['auc']        \n",
        "              )\n",
        "\n"
      ],
      "metadata": {
        "id": "LoXYYaph9EF5"
      },
      "execution_count": null,
      "outputs": []
    },
    {
      "cell_type": "code",
      "source": [
        "# 9.1 Scores:\n",
        "\n",
        "f\"Best auc from orig train/test data: {model_orig.best_score}\"\n",
        "print(\"\\n===========\\n\")\n",
        "f\"Best iteration from orig train/test data: {model_orig.best_iteration}\""
      ],
      "metadata": {
        "id": "qkWQOtkmwacR",
        "outputId": "b22a392e-d69f-4663-c47b-abff4acb5b49",
        "colab": {
          "base_uri": "https://localhost:8080/",
          "height": 89
        }
      },
      "execution_count": null,
      "outputs": [
        {
          "output_type": "execute_result",
          "data": {
            "text/plain": [
              "'Best auc from orig train/test data: 0.9939393939393939'"
            ],
            "application/vnd.google.colaboratory.intrinsic+json": {
              "type": "string"
            }
          },
          "metadata": {},
          "execution_count": 35
        },
        {
          "output_type": "stream",
          "name": "stdout",
          "text": [
            "\n",
            "===========\n",
            "\n"
          ]
        },
        {
          "output_type": "execute_result",
          "data": {
            "text/plain": [
              "'Best iteration from orig train/test data: 38'"
            ],
            "application/vnd.google.colaboratory.intrinsic+json": {
              "type": "string"
            }
          },
          "metadata": {},
          "execution_count": 35
        }
      ]
    },
    {
      "cell_type": "code",
      "source": [
        "# 9.2 Modeling with transformed train/test data:\n",
        "\n",
        "evals_result= {}\n",
        "model_trans = xgb.XGBClassifier( n_estimators= 80,\n",
        "                           verbosity = 3,\n",
        "                           eta = 0.06,      \n",
        "                           max_depth = 6,\n",
        "                           subsample = 0.8,        \n",
        "                           evals_result = evals_result,\n",
        "                           random_state = 70,\n",
        "                           )\n",
        "\n",
        "\n",
        "tr_X =   train_trans.iloc[:,len(cat_cols):]\n",
        "test_X = test_trans.iloc[:,len(cat_cols):]\n",
        "ytr = ytr \n",
        "yte = yte \n",
        "\n",
        "\n",
        "model_trans.fit(tr_X, ytr.values,     \n",
        "          early_stopping_rounds = 50, \n",
        "          eval_set=[ (test_X, yte.values)],\n",
        "          eval_metric = ['auc']    \n",
        "          )\n",
        "\n"
      ],
      "metadata": {
        "id": "m7ZEdaheQasf"
      },
      "execution_count": null,
      "outputs": []
    },
    {
      "cell_type": "code",
      "source": [
        "# 9.3\n",
        "\n",
        "f\"Best auc from transformed train/test data: {model_trans.best_score}\"\n",
        "print(\"\\n===========\\n\")\n",
        "f\"Best iteration from transformed train/test data: {model_trans.best_iteration}\""
      ],
      "metadata": {
        "id": "2N6B71WrR7Jm",
        "colab": {
          "base_uri": "https://localhost:8080/",
          "height": 89
        },
        "outputId": "84fa7c0f-5e60-4db7-f67c-6e1462a8fb32"
      },
      "execution_count": null,
      "outputs": [
        {
          "output_type": "execute_result",
          "data": {
            "text/plain": [
              "'Best auc from transformed train/test data: 0.9949494949494949'"
            ],
            "application/vnd.google.colaboratory.intrinsic+json": {
              "type": "string"
            }
          },
          "metadata": {},
          "execution_count": 37
        },
        {
          "output_type": "stream",
          "name": "stdout",
          "text": [
            "\n",
            "===========\n",
            "\n"
          ]
        },
        {
          "output_type": "execute_result",
          "data": {
            "text/plain": [
              "'Best iteration from transformed train/test data: 19'"
            ],
            "application/vnd.google.colaboratory.intrinsic+json": {
              "type": "string"
            }
          },
          "metadata": {},
          "execution_count": 37
        }
      ]
    },
    {
      "cell_type": "markdown",
      "source": [
        "## Distribution of columns\n",
        "Distribution of columns related to different centrality measures"
      ],
      "metadata": {
        "id": "x7XsOZtMb2pR"
      }
    },
    {
      "cell_type": "code",
      "source": [
        "colList = (train_trans.iloc[:,len(cat_cols):]).columns\n",
        "f = utils.featureImptByCentrality(colList, True)"
      ],
      "metadata": {
        "id": "2fEhFq66czdJ"
      },
      "execution_count": null,
      "outputs": []
    },
    {
      "cell_type": "code",
      "source": [
        "f"
      ],
      "metadata": {
        "id": "H6NOORJOdAQx",
        "outputId": "f4a1c79b-13a9-4503-8748-ced7b9e19d0a",
        "colab": {
          "base_uri": "https://localhost:8080/"
        }
      },
      "execution_count": null,
      "outputs": [
        {
          "output_type": "execute_result",
          "data": {
            "text/plain": [
              "eigenvector          0.259259\n",
              "degree               0.185185\n",
              "pagerank             0.185185\n",
              "clusteringcoeff      0.185185\n",
              "betweenness          0.185185\n",
              "avgembeddedness      0.000000\n",
              "leidencomsdensity    0.000000\n",
              "dtype: float64"
            ]
          },
          "metadata": {},
          "execution_count": 56
        }
      ]
    },
    {
      "cell_type": "code",
      "source": [
        "fe_1, fe_0,_ = utils.xgImptFeatures(model_trans, colList)\n",
        "f\"Columns whose impt is >0: {len(fe_1)}\"\n",
        "f\"Columns whose impt is 0: {len(fe_0)}\"\n"
      ],
      "metadata": {
        "id": "-0OLzHn9dZ1B",
        "outputId": "ec8a08e2-0443-4d6a-c183-b27350d519c0",
        "colab": {
          "base_uri": "https://localhost:8080/",
          "height": 53
        }
      },
      "execution_count": null,
      "outputs": [
        {
          "output_type": "stream",
          "name": "stdout",
          "text": [
            "Order of feature importance is by 'gain'\n"
          ]
        },
        {
          "output_type": "execute_result",
          "data": {
            "text/plain": [
              "'Columns whose impt is >0: 160'"
            ],
            "application/vnd.google.colaboratory.intrinsic+json": {
              "type": "string"
            }
          },
          "metadata": {},
          "execution_count": 49
        },
        {
          "output_type": "execute_result",
          "data": {
            "text/plain": [
              "'Columns whose impt is 0: 110'"
            ],
            "application/vnd.google.colaboratory.intrinsic+json": {
              "type": "string"
            }
          },
          "metadata": {},
          "execution_count": 49
        }
      ]
    },
    {
      "cell_type": "code",
      "source": [
        "t = featureImptByCentrality(fe_1, True)\n",
        "t"
      ],
      "metadata": {
        "id": "w2Kbas4xdiDw",
        "outputId": "2741e249-86e5-4183-95cc-3b1c843b2199",
        "colab": {
          "base_uri": "https://localhost:8080/"
        }
      },
      "execution_count": null,
      "outputs": [
        {
          "output_type": "execute_result",
          "data": {
            "text/plain": [
              "eigenvector          0.3125\n",
              "clusteringcoeff      0.2000\n",
              "degree               0.1875\n",
              "pagerank             0.1750\n",
              "betweenness          0.1250\n",
              "avgembeddedness      0.0000\n",
              "leidencomsdensity    0.0000\n",
              "dtype: float64"
            ]
          },
          "metadata": {},
          "execution_count": 59
        }
      ]
    },
    {
      "cell_type": "code",
      "source": [
        "plotSeries(t, \"Proportions of columns whose xgboost importance is not zero\")"
      ],
      "metadata": {
        "id": "wrolC47Pgu2y",
        "outputId": "d3f34b1b-ad88-4895-cbd7-813fa0eb035c",
        "colab": {
          "base_uri": "https://localhost:8080/",
          "height": 452
        }
      },
      "execution_count": null,
      "outputs": [
        {
          "output_type": "display_data",
          "data": {
            "text/plain": [
              "<Figure size 640x480 with 1 Axes>"
            ],
            "image/png": "[encoded data removed]"
          },
          "metadata": {}
        }
      ]
    },
    {
      "cell_type": "code",
      "source": [
        "fe_1, fe_0, fe = utils.xgImptFeatures(model_trans, colList)"
      ],
      "metadata": {
        "id": "HOXO1KCpkF1n"
      },
      "execution_count": null,
      "outputs": []
    },
    {
      "cell_type": "code",
      "source": [
        "d = utils.featureImptByCentFeatCounts(colList)\n",
        "\n",
        "d"
      ],
      "metadata": {
        "id": "JiPUOxvaxjn1",
        "outputId": "82061a61-66ee-48c7-a661-a464b16d36b0",
        "colab": {
          "base_uri": "https://localhost:8080/"
        }
      },
      "execution_count": null,
      "outputs": [
        {
          "output_type": "execute_result",
          "data": {
            "text/plain": [
              "eigenvector          70\n",
              "degree               50\n",
              "pagerank             50\n",
              "clusteringcoeff      50\n",
              "betweenness          50\n",
              "avgembeddedness       0\n",
              "leidencomsdensity     0\n",
              "dtype: int64"
            ]
          },
          "metadata": {},
          "execution_count": 116
        }
      ]
    },
    {
      "cell_type": "code",
      "source": [
        "plotSeries(d)"
      ],
      "metadata": {
        "id": "373jeAPW6dCS",
        "outputId": "fa453267-87f8-4ee1-aa11-612044151f94",
        "colab": {
          "base_uri": "https://localhost:8080/",
          "height": 430
        }
      },
      "execution_count": null,
      "outputs": [
        {
          "output_type": "display_data",
          "data": {
            "text/plain": [
              "<Figure size 640x480 with 1 Axes>"
            ],
            "image/png": "[encoded data removed]"
          },
          "metadata": {}
        }
      ]
    },
    {
      "cell_type": "code",
      "source": [
        "score = fe['imp']"
      ],
      "metadata": {
        "id": "P73iAc2x9kL0"
      },
      "execution_count": null,
      "outputs": []
    },
    {
      "cell_type": "code",
      "source": [
        "score"
      ],
      "metadata": {
        "id": "HU64oG1J9mZu",
        "outputId": "b51cf09e-0ade-471b-c138-027991cd5f99",
        "colab": {
          "base_uri": "https://localhost:8080/"
        }
      },
      "execution_count": null,
      "outputs": [
        {
          "output_type": "execute_result",
          "data": {
            "text/plain": [
              "deg_area_se_ck_texture_mean                      0.102290\n",
              "deg_concavity_mean_ck_concavity_worst            0.055836\n",
              "eig_concavity_mean_ck_texture_mean               0.052912\n",
              "deg_concavity_worst_ck_area_se_p_texture_mean    0.035450\n",
              "clu_area_mean_ck_area_se                         0.029509\n",
              "                                                   ...   \n",
              "deg_texture_mean_ck_concavity_worst              0.000000\n",
              "bet_area_se_ck_area_mean_p_concavity_worst       0.000000\n",
              "deg_area_se_ck_texture_mean_p_concavity_worst    0.000000\n",
              "eig_area_se_ck_texture_mean_p_concavity_worst    0.000000\n",
              "deg_area_se_ck_area_mean_p_texture_mean          0.000000\n",
              "Name: imp, Length: 270, dtype: float32"
            ]
          },
          "metadata": {},
          "execution_count": 124
        }
      ]
    },
    {
      "cell_type": "code",
      "source": [
        "\n",
        "g = utils.featureImptByScore(score, colList, True)"
      ],
      "metadata": {
        "id": "YGBBYVz66iuN",
        "outputId": "9baee6fb-7035-407d-d869-298f5482cff0",
        "colab": {
          "base_uri": "https://localhost:8080/",
          "height": 168
        }
      },
      "execution_count": 3,
      "outputs": [
        {
          "output_type": "error",
          "ename": "NameError",
          "evalue": "ignored",
          "traceback": [
            "\u001b[0;31m---------------------------------------------------------------------------\u001b[0m",
            "\u001b[0;31mNameError\u001b[0m                                 Traceback (most recent call last)",
            "\u001b[0;32m<ipython-input-3-8bb91607bab5>\u001b[0m in \u001b[0;36m<cell line: 1>\u001b[0;34m()\u001b[0m\n\u001b[0;32m----> 1\u001b[0;31m \u001b[0mg\u001b[0m \u001b[0;34m=\u001b[0m \u001b[0mutils\u001b[0m\u001b[0;34m.\u001b[0m\u001b[0mfeatureImptByScore\u001b[0m\u001b[0;34m(\u001b[0m\u001b[0mscore\u001b[0m\u001b[0;34m,\u001b[0m \u001b[0mcolList\u001b[0m\u001b[0;34m,\u001b[0m \u001b[0;32mTrue\u001b[0m\u001b[0;34m)\u001b[0m\u001b[0;34m\u001b[0m\u001b[0;34m\u001b[0m\u001b[0m\n\u001b[0m",
            "\u001b[0;31mNameError\u001b[0m: name 'utils' is not defined"
          ]
        }
      ]
    },
    {
      "cell_type": "code",
      "source": [
        "g.sum()"
      ],
      "metadata": {
        "id": "2zXRyGxS8Ifc",
        "outputId": "e3af2443-2e1d-4812-9bf7-ac7f5a50af00",
        "colab": {
          "base_uri": "https://localhost:8080/"
        }
      },
      "execution_count": null,
      "outputs": [
        {
          "output_type": "execute_result",
          "data": {
            "text/plain": [
              "1.0000001"
            ]
          },
          "metadata": {},
          "execution_count": 127
        }
      ]
    },
    {
      "cell_type": "code",
      "source": [
        "plotSeries(g)"
      ],
      "metadata": {
        "id": "va_z1o2U7GJL",
        "outputId": "2a59f159-63aa-44d2-8a38-de1963d32f38",
        "colab": {
          "base_uri": "https://localhost:8080/",
          "height": 430
        }
      },
      "execution_count": null,
      "outputs": [
        {
          "output_type": "display_data",
          "data": {
            "text/plain": [
              "<Figure size 640x480 with 1 Axes>"
            ],
            "image/png": "[encoded data removed]"
          },
          "metadata": {}
        }
      ]
    },
    {
      "cell_type": "markdown",
      "source": [
        "## Mutual information"
      ],
      "metadata": {
        "id": "ZM5iEPZQ0bvQ"
      }
    },
    {
      "cell_type": "code",
      "source": [
        "from sklearn.feature_selection import mutual_info_classif\n",
        "\n"
      ],
      "metadata": {
        "id": "euj8XPiO0dxD"
      },
      "execution_count": null,
      "outputs": []
    },
    {
      "cell_type": "code",
      "source": [
        "mi_scores = utils.calMIScores(train_trans[colList], ytr)\n",
        "mi_scores[::3]  # show a few features with their MI scores"
      ],
      "metadata": {
        "id": "uxcJcVkr1Lhx"
      },
      "execution_count": null,
      "outputs": []
    },
    {
      "cell_type": "code",
      "source": [
        "fe.cumsum()\n",
        "len(fe)"
      ],
      "metadata": {
        "id": "cVBhQ-ocBSxb"
      },
      "execution_count": null,
      "outputs": []
    },
    {
      "cell_type": "code",
      "source": [
        "fe['imp'].cumsum().values"
      ],
      "metadata": {
        "id": "zQZwaDbHBoYh"
      },
      "execution_count": null,
      "outputs": []
    },
    {
      "cell_type": "code",
      "source": [
        "plt.plot(range(len(fe)), fe['imp'].cumsum().values)\n",
        "plt.grid()"
      ],
      "metadata": {
        "id": "UDt10XfGAkzy"
      },
      "execution_count": null,
      "outputs": []
    },
    {
      "cell_type": "code",
      "source": [
        "plt.plot(range(len(mi_scores)), mi_scores.cumsum().values)\n",
        "plt.grid()"
      ],
      "metadata": {
        "id": "jsjqwwaoCnkJ"
      },
      "execution_count": null,
      "outputs": []
    },
    {
      "cell_type": "code",
      "source": [
        "sns.histplot(mi_scores)"
      ],
      "metadata": {
        "id": "ealWAwFs_bnq"
      },
      "execution_count": null,
      "outputs": []
    },
    {
      "cell_type": "code",
      "source": [
        "# 7.1\n",
        "plt.figure(dpi=100, figsize=(8, 20))\n",
        "plot_mi_scores(mi_scores);"
      ],
      "metadata": {
        "id": "jxgbusGI1OlI"
      },
      "execution_count": null,
      "outputs": []
    },
    {
      "cell_type": "code",
      "source": [],
      "metadata": {
        "id": "BLiCYtx_1y5V"
      },
      "execution_count": null,
      "outputs": []
    }
  ]
}