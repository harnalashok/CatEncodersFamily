{
  "cells": [
    {
      "cell_type": "markdown",
      "metadata": {
        "id": "view-in-github",
        "colab_type": "text"
      },
      "source": [
        "<a href=\"https://colab.research.google.com/github/harnalashok/CatEncodersFamily/blob/main/pdf_to_text_colab.ipynb\" target=\"_parent\"><img src=\"https://colab.research.google.com/assets/colab-badge.svg\" alt=\"Open In Colab\"/></a>"
      ]
    },
    {
      "cell_type": "code",
      "execution_count": null,
      "id": "70621373-ae8e-4934-b411-c027e570cd67",
      "metadata": {
        "id": "70621373-ae8e-4934-b411-c027e570cd67"
      },
      "outputs": [],
      "source": [
        "# Last amended: 20/07/2023\n",
        "# Converts all pdf files in a folder to text using pypdf2\n",
        "# Read pdf files to clean them up.\n",
        "# Code taken from: https://www.perplexity.ai/\n",
        "#"
      ]
    },
    {
      "cell_type": "code",
      "execution_count": null,
      "id": "43372240-0448-4baf-a8c2-f89269fec332",
      "metadata": {
        "id": "43372240-0448-4baf-a8c2-f89269fec332"
      },
      "outputs": [],
      "source": [
        "## NOTE\n",
        "##=====\n",
        "\n",
        "# Run on colab\n",
        "#   pdf files will have to copied to gdrive\n",
        "#    and gdrive mounted"
      ]
    },
    {
      "cell_type": "code",
      "source": [
        "\"\"\"\n",
        "Before the experiment begins, store all your pdf files\n",
        "in a folder on gdrive.\n",
        "Create another empty folder to store text files.\n",
        "\"\"\""
      ],
      "metadata": {
        "id": "vTT5ddH3D44r"
      },
      "id": "vTT5ddH3D44r",
      "execution_count": null,
      "outputs": []
    },
    {
      "cell_type": "code",
      "source": [
        "# 0.1 Install pypdf2\n",
        "!pip install PyPDF2 -q"
      ],
      "metadata": {
        "colab": {
          "base_uri": "https://localhost:8080/"
        },
        "id": "i_c0DoxkC2YM",
        "outputId": "35897c8d-8df9-4fa3-b36e-020cde5dd0de"
      },
      "id": "i_c0DoxkC2YM",
      "execution_count": 4,
      "outputs": [
        {
          "output_type": "stream",
          "name": "stdout",
          "text": [
            "\u001b[?25l     \u001b[90m━━━━━━━━━━━━━━━━━━━━━━━━━━━━━━━━━━━━━━━━\u001b[0m \u001b[32m0.0/232.6 kB\u001b[0m \u001b[31m?\u001b[0m eta \u001b[36m-:--:--\u001b[0m\r\u001b[2K     \u001b[91m━━━━━━━━━━━━━━━━━\u001b[0m\u001b[91m╸\u001b[0m\u001b[90m━━━━━━━━━━━━━━━━━━━━━━\u001b[0m \u001b[32m102.4/232.6 kB\u001b[0m \u001b[31m2.9 MB/s\u001b[0m eta \u001b[36m0:00:01\u001b[0m\r\u001b[2K     \u001b[90m━━━━━━━━━━━━━━━━━━━━━━━━━━━━━━━━━━━━━━━━\u001b[0m \u001b[32m232.6/232.6 kB\u001b[0m \u001b[31m4.2 MB/s\u001b[0m eta \u001b[36m0:00:00\u001b[0m\n",
            "\u001b[?25h"
          ]
        }
      ]
    },
    {
      "cell_type": "code",
      "execution_count": 15,
      "id": "b98f1dc8-2808-4b98-bf58-25172c77d009",
      "metadata": {
        "id": "b98f1dc8-2808-4b98-bf58-25172c77d009"
      },
      "outputs": [],
      "source": [
        "# 1.0\n",
        "import os\n",
        "from PyPDF2 import PdfReader"
      ]
    },
    {
      "cell_type": "code",
      "execution_count": 16,
      "id": "df6ee457-80c3-4e11-a92c-0a2c491be6e1",
      "metadata": {
        "id": "df6ee457-80c3-4e11-a92c-0a2c491be6e1"
      },
      "outputs": [],
      "source": [
        "# 1.1\n",
        "def pdf_to_text(pdf_path):\n",
        "    \"\"\"Extract text from a single PDF file.\"\"\"\n",
        "    text = \"\"\n",
        "    with open(pdf_path, 'rb') as file:\n",
        "        reader = PdfReader(file)\n",
        "        for page in reader.pages:\n",
        "            text += page.extract_text() + \"\\n\"  # Append text from each page\n",
        "    return text"
      ]
    },
    {
      "cell_type": "code",
      "execution_count": 17,
      "id": "fc07e7c3-5975-4f44-a955-94f5b35b4597",
      "metadata": {
        "id": "fc07e7c3-5975-4f44-a955-94f5b35b4597"
      },
      "outputs": [],
      "source": [
        "# 1.2\n",
        "def convert_multiple_pdfs_to_text(pdf_directory, output_directory):\n",
        "    \"\"\"Convert all PDF files in a specified directory to text files.\"\"\"\n",
        "    if not os.path.exists(output_directory):\n",
        "        os.makedirs(output_directory)  # Create the output directory if it doesn't exist\n",
        "\n",
        "    for filename in os.listdir(pdf_directory):\n",
        "        if filename.endswith('.pdf'):\n",
        "            pdf_path = os.path.join(pdf_directory, filename)\n",
        "            text = pdf_to_text(pdf_path)\n",
        "            text_filename = os.path.splitext(filename)[0] + '.txt'\n",
        "            text_path = os.path.join(output_directory, text_filename)\n",
        "\n",
        "            with open(text_path, 'w', encoding='utf-8') as text_file:\n",
        "                text_file.write(text)\n",
        "            print(f\"Converted {filename} to {text_filename}\")"
      ]
    },
    {
      "cell_type": "code",
      "source": [
        "from google.colab import drive\n",
        "drive.mount('/gdrive')"
      ],
      "metadata": {
        "colab": {
          "base_uri": "https://localhost:8080/"
        },
        "id": "kfpJSSkpCUHA",
        "outputId": "b25b5ef4-2328-4ed8-bc81-8bebe9bec66b"
      },
      "id": "kfpJSSkpCUHA",
      "execution_count": 18,
      "outputs": [
        {
          "output_type": "stream",
          "name": "stdout",
          "text": [
            "Drive already mounted at /gdrive; to attempt to forcibly remount, call drive.mount(\"/gdrive\", force_remount=True).\n"
          ]
        }
      ]
    },
    {
      "cell_type": "code",
      "execution_count": 19,
      "id": "8ef003bc-0180-43d6-9e04-cf4237b28dea",
      "metadata": {
        "id": "8ef003bc-0180-43d6-9e04-cf4237b28dea"
      },
      "outputs": [],
      "source": [
        "# 1.3 Specify the directories\n",
        "#     IF using colab, specify both the folders in gdrive:\n",
        "\n",
        "pdf_directory = '/gdrive/MyDrive/Colab_data_files/pdf'  # Replace with your PDF directory path\n",
        "output_directory = '/gdrive/MyDrive/Colab_data_files/pdf_to_text'  # Replace with your output directory path"
      ]
    },
    {
      "cell_type": "code",
      "source": [
        "# 1.4 Clean up your output_directory.\n",
        "#     Note path is NOT enclosed by inverted commas\n",
        "\n",
        "!rm  -f /gdrive/MyDrive/Colab_data_files/pdf_to_text/*"
      ],
      "metadata": {
        "id": "4FVCzHLnEUiE"
      },
      "id": "4FVCzHLnEUiE",
      "execution_count": 20,
      "outputs": []
    },
    {
      "cell_type": "code",
      "execution_count": 21,
      "id": "3ac3be28-0b80-428a-a59a-f3e8edbb5f98",
      "metadata": {
        "colab": {
          "base_uri": "https://localhost:8080/"
        },
        "id": "3ac3be28-0b80-428a-a59a-f3e8edbb5f98",
        "outputId": "3d0d7ab5-695a-47aa-c5ae-95166848209d"
      },
      "outputs": [
        {
          "output_type": "stream",
          "name": "stdout",
          "text": [
            "Converted 322.pdf to 322.txt\n",
            "Converted 303.pdf to 303.txt\n",
            "Converted 259.pdf to 259.txt\n",
            "Converted 251.pdf to 251.txt\n",
            "Converted 258.pdf to 258.txt\n",
            "Converted 315.pdf to 315.txt\n"
          ]
        }
      ],
      "source": [
        "# 1.5 Run the conversion\n",
        "convert_multiple_pdfs_to_text(pdf_directory, output_directory)"
      ]
    },
    {
      "cell_type": "code",
      "source": [
        "# 1.6 Check:\n",
        "\n",
        "!ls -la /gdrive/MyDrive/Colab_data_files/pdf_to_text"
      ],
      "metadata": {
        "colab": {
          "base_uri": "https://localhost:8080/"
        },
        "id": "KyBzB--rDG0z",
        "outputId": "ef1eac9a-f6fe-4eaf-b136-79346dea92ea"
      },
      "id": "KyBzB--rDG0z",
      "execution_count": 22,
      "outputs": [
        {
          "output_type": "stream",
          "name": "stdout",
          "text": [
            "total 37\n",
            "-rw------- 1 root root  2904 Jul 20 02:58 251.txt\n",
            "-rw------- 1 root root 13865 Jul 20 02:58 258.txt\n",
            "-rw------- 1 root root  4742 Jul 20 02:58 259.txt\n",
            "-rw------- 1 root root  3968 Jul 20 02:58 303.txt\n",
            "-rw------- 1 root root  7972 Jul 20 02:58 315.txt\n",
            "-rw------- 1 root root  2868 Jul 20 02:58 322.txt\n"
          ]
        }
      ]
    },
    {
      "cell_type": "code",
      "execution_count": null,
      "id": "e3bb4a04-cd69-4820-b34f-c78a4c2f5023",
      "metadata": {
        "id": "e3bb4a04-cd69-4820-b34f-c78a4c2f5023"
      },
      "outputs": [],
      "source": [
        "############## DONE ##############"
      ]
    }
  ],
  "metadata": {
    "kernelspec": {
      "display_name": "Python 3 (ipykernel)",
      "language": "python",
      "name": "python3"
    },
    "language_info": {
      "codemirror_mode": {
        "name": "ipython",
        "version": 3
      },
      "file_extension": ".py",
      "mimetype": "text/x-python",
      "name": "python",
      "nbconvert_exporter": "python",
      "pygments_lexer": "ipython3",
      "version": "3.11.9"
    },
    "colab": {
      "provenance": [],
      "include_colab_link": true
    }
  },
  "nbformat": 4,
  "nbformat_minor": 5
}